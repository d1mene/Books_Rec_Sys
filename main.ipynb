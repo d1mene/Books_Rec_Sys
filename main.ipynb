{
 "cells": [
  {
   "cell_type": "code",
   "execution_count": 1,
   "id": "e460e7f4",
   "metadata": {},
   "outputs": [],
   "source": [
    "import numpy as np\n",
    "import pandas as pd\n",
    "\n",
    "import scipy.sparse as sparse\n",
    "from lightfm import LightFM\n",
    "from lightfm.cross_validation import random_train_test_split\n",
    "from lightfm.evaluation import precision_at_k, recall_at_k\n",
    "\n",
    "import pickle\n",
    "import nmslib"
   ]
  },
  {
   "cell_type": "code",
   "execution_count": 4,
   "id": "e4393d50",
   "metadata": {},
   "outputs": [],
   "source": [
    "ratings = pd.read_csv('data/ratings.csv')\n",
    "books = pd.read_csv('data/books.csv')\n",
    "tags = pd.read_csv('data/tags.csv')\n",
    "book_tags = pd.read_csv('data/book_tags.csv')"
   ]
  },
  {
   "cell_type": "code",
   "execution_count": 5,
   "id": "3614a2c1",
   "metadata": {},
   "outputs": [
    {
     "data": {
      "text/html": [
       "<div>\n",
       "<style scoped>\n",
       "    .dataframe tbody tr th:only-of-type {\n",
       "        vertical-align: middle;\n",
       "    }\n",
       "\n",
       "    .dataframe tbody tr th {\n",
       "        vertical-align: top;\n",
       "    }\n",
       "\n",
       "    .dataframe thead th {\n",
       "        text-align: right;\n",
       "    }\n",
       "</style>\n",
       "<table border=\"1\" class=\"dataframe\">\n",
       "  <thead>\n",
       "    <tr style=\"text-align: right;\">\n",
       "      <th></th>\n",
       "      <th>goodreads_book_id</th>\n",
       "      <th>tag_id</th>\n",
       "      <th>count</th>\n",
       "    </tr>\n",
       "  </thead>\n",
       "  <tbody>\n",
       "    <tr>\n",
       "      <th>0</th>\n",
       "      <td>1</td>\n",
       "      <td>30574</td>\n",
       "      <td>167697</td>\n",
       "    </tr>\n",
       "    <tr>\n",
       "      <th>1</th>\n",
       "      <td>1</td>\n",
       "      <td>11305</td>\n",
       "      <td>37174</td>\n",
       "    </tr>\n",
       "    <tr>\n",
       "      <th>2</th>\n",
       "      <td>1</td>\n",
       "      <td>11557</td>\n",
       "      <td>34173</td>\n",
       "    </tr>\n",
       "    <tr>\n",
       "      <th>3</th>\n",
       "      <td>1</td>\n",
       "      <td>8717</td>\n",
       "      <td>12986</td>\n",
       "    </tr>\n",
       "    <tr>\n",
       "      <th>4</th>\n",
       "      <td>1</td>\n",
       "      <td>33114</td>\n",
       "      <td>12716</td>\n",
       "    </tr>\n",
       "    <tr>\n",
       "      <th>...</th>\n",
       "      <td>...</td>\n",
       "      <td>...</td>\n",
       "      <td>...</td>\n",
       "    </tr>\n",
       "    <tr>\n",
       "      <th>999907</th>\n",
       "      <td>33288638</td>\n",
       "      <td>21303</td>\n",
       "      <td>7</td>\n",
       "    </tr>\n",
       "    <tr>\n",
       "      <th>999908</th>\n",
       "      <td>33288638</td>\n",
       "      <td>17271</td>\n",
       "      <td>7</td>\n",
       "    </tr>\n",
       "    <tr>\n",
       "      <th>999909</th>\n",
       "      <td>33288638</td>\n",
       "      <td>1126</td>\n",
       "      <td>7</td>\n",
       "    </tr>\n",
       "    <tr>\n",
       "      <th>999910</th>\n",
       "      <td>33288638</td>\n",
       "      <td>11478</td>\n",
       "      <td>7</td>\n",
       "    </tr>\n",
       "    <tr>\n",
       "      <th>999911</th>\n",
       "      <td>33288638</td>\n",
       "      <td>27939</td>\n",
       "      <td>7</td>\n",
       "    </tr>\n",
       "  </tbody>\n",
       "</table>\n",
       "<p>999912 rows × 3 columns</p>\n",
       "</div>"
      ],
      "text/plain": [
       "        goodreads_book_id  tag_id   count\n",
       "0                       1   30574  167697\n",
       "1                       1   11305   37174\n",
       "2                       1   11557   34173\n",
       "3                       1    8717   12986\n",
       "4                       1   33114   12716\n",
       "...                   ...     ...     ...\n",
       "999907           33288638   21303       7\n",
       "999908           33288638   17271       7\n",
       "999909           33288638    1126       7\n",
       "999910           33288638   11478       7\n",
       "999911           33288638   27939       7\n",
       "\n",
       "[999912 rows x 3 columns]"
      ]
     },
     "execution_count": 5,
     "metadata": {},
     "output_type": "execute_result"
    }
   ],
   "source": [
    "book_tags"
   ]
  },
  {
   "cell_type": "code",
   "execution_count": 6,
   "id": "d27cbe8d",
   "metadata": {},
   "outputs": [],
   "source": [
    "tags = pd.read_csv('data/tags_cleaned.csv')"
   ]
  },
  {
   "cell_type": "code",
   "execution_count": 7,
   "id": "610795b2",
   "metadata": {},
   "outputs": [],
   "source": [
    "mapper = dict(zip(books.goodreads_book_id, books.book_id))"
   ]
  },
  {
   "cell_type": "code",
   "execution_count": 8,
   "id": "0650add2",
   "metadata": {},
   "outputs": [],
   "source": [
    "book_tags = book_tags[book_tags.tag_id.isin(tags['tag_id'])]"
   ]
  },
  {
   "cell_type": "code",
   "execution_count": 9,
   "id": "9af26df8",
   "metadata": {},
   "outputs": [
    {
     "name": "stderr",
     "output_type": "stream",
     "text": [
      "/tmp/ipykernel_65750/3717839502.py:1: SettingWithCopyWarning: \n",
      "A value is trying to be set on a copy of a slice from a DataFrame.\n",
      "Try using .loc[row_indexer,col_indexer] = value instead\n",
      "\n",
      "See the caveats in the documentation: https://pandas.pydata.org/pandas-docs/stable/user_guide/indexing.html#returning-a-view-versus-a-copy\n",
      "  book_tags['id'] = book_tags.goodreads_book_id.apply(lambda x: mapper[x])\n"
     ]
    }
   ],
   "source": [
    "book_tags['id'] = book_tags.goodreads_book_id.apply(lambda x: mapper[x])"
   ]
  },
  {
   "cell_type": "code",
   "execution_count": 10,
   "id": "62f623d7",
   "metadata": {},
   "outputs": [
    {
     "data": {
      "text/html": [
       "<div>\n",
       "<style scoped>\n",
       "    .dataframe tbody tr th:only-of-type {\n",
       "        vertical-align: middle;\n",
       "    }\n",
       "\n",
       "    .dataframe tbody tr th {\n",
       "        vertical-align: top;\n",
       "    }\n",
       "\n",
       "    .dataframe thead th {\n",
       "        text-align: right;\n",
       "    }\n",
       "</style>\n",
       "<table border=\"1\" class=\"dataframe\">\n",
       "  <thead>\n",
       "    <tr style=\"text-align: right;\">\n",
       "      <th></th>\n",
       "      <th>goodreads_book_id</th>\n",
       "      <th>tag_id</th>\n",
       "      <th>count</th>\n",
       "      <th>id</th>\n",
       "    </tr>\n",
       "  </thead>\n",
       "  <tbody>\n",
       "    <tr>\n",
       "      <th>1</th>\n",
       "      <td>1</td>\n",
       "      <td>11305</td>\n",
       "      <td>37174</td>\n",
       "      <td>27</td>\n",
       "    </tr>\n",
       "    <tr>\n",
       "      <th>4</th>\n",
       "      <td>1</td>\n",
       "      <td>33114</td>\n",
       "      <td>12716</td>\n",
       "      <td>27</td>\n",
       "    </tr>\n",
       "  </tbody>\n",
       "</table>\n",
       "</div>"
      ],
      "text/plain": [
       "   goodreads_book_id  tag_id  count  id\n",
       "1                  1   11305  37174  27\n",
       "4                  1   33114  12716  27"
      ]
     },
     "execution_count": 10,
     "metadata": {},
     "output_type": "execute_result"
    }
   ],
   "source": [
    "book_tags.head(2)"
   ]
  },
  {
   "cell_type": "code",
   "execution_count": 11,
   "id": "fb89418a",
   "metadata": {},
   "outputs": [],
   "source": [
    "ratings_coo = sparse.coo_matrix((ratings.rating, (ratings.user_id, ratings.book_id)))\n",
    "feature_ratings = sparse.coo_matrix(([1]*len(book_tags), (book_tags.id, book_tags.tag_id)))"
   ]
  },
  {
   "cell_type": "code",
   "execution_count": 12,
   "id": "40d7b8a8",
   "metadata": {},
   "outputs": [],
   "source": [
    "NUM_THREADS = 6\n",
    "NUM_COMPONENTS = 60\n",
    "NUM_EPOCHS = 10"
   ]
  },
  {
   "cell_type": "code",
   "execution_count": null,
   "id": "ae42d88b",
   "metadata": {},
   "outputs": [],
   "source": [
    "model = LightFM(learning_rate=0.5, loss='warp', no_components=NUM_COMPONENTS)\n",
    "\n",
    "train, test = random_train_test_split(ratings_coo, test_percentage=0.2)\n",
    "\n",
    "model = model.fit(train, num_threads=NUM_THREADS, epochs=NUM_EPOCHS, item_features=feature_ratings)"
   ]
  },
  {
   "cell_type": "code",
   "execution_count": null,
   "id": "3c2b367c",
   "metadata": {},
   "outputs": [],
   "source": [
    "with open('data/model.pkl', 'wb') as f:\n",
    "    pickle.dump(model, f)"
   ]
  },
  {
   "cell_type": "code",
   "execution_count": null,
   "id": "3c074cab",
   "metadata": {},
   "outputs": [
    {
     "name": "stdout",
     "output_type": "stream",
     "text": [
      "Precision@10: 0.0008778825\n",
      "Recall@10: 0.00042474162076338727\n"
     ]
    }
   ],
   "source": [
    "precision = precision_at_k(\n",
    "    model,\n",
    "    test,\n",
    "    num_threads=NUM_THREADS,\n",
    "    k=10,\n",
    "    item_features = feature_ratings\n",
    ").mean()\n",
    "\n",
    "recall = recall_at_k(\n",
    "    model,\n",
    "    test,\n",
    "    num_threads=NUM_THREADS,\n",
    "    k=10,\n",
    "    item_features=feature_ratings\n",
    ").mean()\n",
    "\n",
    "print(\"Precision@10:\", precision)\n",
    "print('Recall@10:', recall)"
   ]
  },
  {
   "cell_type": "markdown",
   "id": "591e1c57",
   "metadata": {},
   "source": [
    "---"
   ]
  },
  {
   "cell_type": "code",
   "execution_count": 13,
   "id": "6e914331",
   "metadata": {},
   "outputs": [],
   "source": [
    "with open('data/model.pkl', 'rb') as f:\n",
    "    model = pickle.load(f)"
   ]
  },
  {
   "cell_type": "code",
   "execution_count": 15,
   "id": "cfc9eeb7",
   "metadata": {},
   "outputs": [
    {
     "name": "stdout",
     "output_type": "stream",
     "text": [
      "(10001,) (10001, 60)\n"
     ]
    }
   ],
   "source": [
    "item_biases, item_embeddings = model.get_item_representations(feature_ratings)\n",
    "\n",
    "print(item_biases.shape, item_embeddings.shape)"
   ]
  },
  {
   "cell_type": "code",
   "execution_count": 16,
   "id": "f6044f15",
   "metadata": {},
   "outputs": [
    {
     "data": {
      "text/plain": [
       "array([[ 0.0000000e+00,  0.0000000e+00,  0.0000000e+00, ...,\n",
       "         0.0000000e+00,  0.0000000e+00,  0.0000000e+00],\n",
       "       [-5.7747469e+05,  2.1199612e+06,  4.7877495e+06, ...,\n",
       "        -5.0883395e+04,  1.1285118e+06, -7.5446206e+05],\n",
       "       [-2.1278424e+04, -3.1200450e+05, -5.7104325e+05, ...,\n",
       "        -5.0429847e+05, -4.9167662e+05, -2.0486008e+05],\n",
       "       ...,\n",
       "       [-5.3642139e+03,  2.6454766e+03, -8.3422002e+03, ...,\n",
       "        -2.0232338e+04,  4.7402871e+04,  5.3812473e+04],\n",
       "       [ 5.3685912e+05, -7.2853281e+05, -1.6888165e+06, ...,\n",
       "        -7.3488425e+05, -1.1025914e+06, -4.1590344e+05],\n",
       "       [ 4.1061795e+08, -9.9290362e+08, -1.4298042e+09, ...,\n",
       "        -1.3912230e+10, -2.4606632e+10, -7.0237798e+08]],\n",
       "      shape=(10001, 60), dtype=float32)"
      ]
     },
     "execution_count": 16,
     "metadata": {},
     "output_type": "execute_result"
    }
   ],
   "source": [
    "item_embeddings"
   ]
  },
  {
   "cell_type": "markdown",
   "id": "51964463",
   "metadata": {},
   "source": [
    "---"
   ]
  },
  {
   "cell_type": "code",
   "execution_count": 17,
   "id": "f4f3cfbf",
   "metadata": {},
   "outputs": [
    {
     "name": "stderr",
     "output_type": "stream",
     "text": [
      "\n",
      "0%   10   20   30   40   50   60   70   80   90   100%\n",
      "|----|----|----|----|----|----|----|----|----|----|\n",
      "***************************************************\n"
     ]
    }
   ],
   "source": [
    "nms_index = nmslib.init(method='hnsw', space='cosinesimil')\n",
    "\n",
    "nms_index.addDataPointBatch(item_embeddings)\n",
    "nms_index.createIndex(print_progress=True)"
   ]
  },
  {
   "cell_type": "code",
   "execution_count": 30,
   "id": "96d13b31",
   "metadata": {},
   "outputs": [],
   "source": [
    "def nearest_books_nms(book_id, index, n=10):\n",
    "    nn = index.knnQuery(vector=item_embeddings[book_id], k=n)\n",
    "    return nn"
   ]
  },
  {
   "cell_type": "code",
   "execution_count": 28,
   "id": "db3e5869",
   "metadata": {},
   "outputs": [
    {
     "data": {
      "text/html": [
       "<div>\n",
       "<style scoped>\n",
       "    .dataframe tbody tr th:only-of-type {\n",
       "        vertical-align: middle;\n",
       "    }\n",
       "\n",
       "    .dataframe tbody tr th {\n",
       "        vertical-align: top;\n",
       "    }\n",
       "\n",
       "    .dataframe thead th {\n",
       "        text-align: right;\n",
       "    }\n",
       "</style>\n",
       "<table border=\"1\" class=\"dataframe\">\n",
       "  <thead>\n",
       "    <tr style=\"text-align: right;\">\n",
       "      <th></th>\n",
       "      <th>book_id</th>\n",
       "      <th>goodreads_book_id</th>\n",
       "      <th>best_book_id</th>\n",
       "      <th>work_id</th>\n",
       "      <th>books_count</th>\n",
       "      <th>isbn</th>\n",
       "      <th>isbn13</th>\n",
       "      <th>authors</th>\n",
       "      <th>original_publication_year</th>\n",
       "      <th>original_title</th>\n",
       "      <th>...</th>\n",
       "      <th>ratings_count</th>\n",
       "      <th>work_ratings_count</th>\n",
       "      <th>work_text_reviews_count</th>\n",
       "      <th>ratings_1</th>\n",
       "      <th>ratings_2</th>\n",
       "      <th>ratings_3</th>\n",
       "      <th>ratings_4</th>\n",
       "      <th>ratings_5</th>\n",
       "      <th>image_url</th>\n",
       "      <th>small_image_url</th>\n",
       "    </tr>\n",
       "  </thead>\n",
       "  <tbody>\n",
       "    <tr>\n",
       "      <th>12</th>\n",
       "      <td>13</td>\n",
       "      <td>5470</td>\n",
       "      <td>5470</td>\n",
       "      <td>153313</td>\n",
       "      <td>995</td>\n",
       "      <td>451524934</td>\n",
       "      <td>9.780452e+12</td>\n",
       "      <td>George Orwell, Erich Fromm, Celâl Üster</td>\n",
       "      <td>1949.0</td>\n",
       "      <td>Nineteen Eighty-Four</td>\n",
       "      <td>...</td>\n",
       "      <td>1956832</td>\n",
       "      <td>2053394</td>\n",
       "      <td>45518</td>\n",
       "      <td>41845</td>\n",
       "      <td>86425</td>\n",
       "      <td>324874</td>\n",
       "      <td>692021</td>\n",
       "      <td>908229</td>\n",
       "      <td>https://images.gr-assets.com/books/1348990566m...</td>\n",
       "      <td>https://images.gr-assets.com/books/1348990566s...</td>\n",
       "    </tr>\n",
       "    <tr>\n",
       "      <th>845</th>\n",
       "      <td>846</td>\n",
       "      <td>5472</td>\n",
       "      <td>5472</td>\n",
       "      <td>2966408</td>\n",
       "      <td>51</td>\n",
       "      <td>151010269</td>\n",
       "      <td>9.780151e+12</td>\n",
       "      <td>George Orwell, Christopher Hitchens</td>\n",
       "      <td>1950.0</td>\n",
       "      <td>Animal Farm &amp; 1984</td>\n",
       "      <td>...</td>\n",
       "      <td>116197</td>\n",
       "      <td>118761</td>\n",
       "      <td>1293</td>\n",
       "      <td>1212</td>\n",
       "      <td>3276</td>\n",
       "      <td>16511</td>\n",
       "      <td>40583</td>\n",
       "      <td>57179</td>\n",
       "      <td>https://images.gr-assets.com/books/1327959366m...</td>\n",
       "      <td>https://images.gr-assets.com/books/1327959366s...</td>\n",
       "    </tr>\n",
       "    <tr>\n",
       "      <th>9795</th>\n",
       "      <td>9796</td>\n",
       "      <td>201145</td>\n",
       "      <td>201145</td>\n",
       "      <td>2563528</td>\n",
       "      <td>25</td>\n",
       "      <td>64440508</td>\n",
       "      <td>9.780064e+12</td>\n",
       "      <td>Else Holmelund Minarik, Maurice Sendak</td>\n",
       "      <td>1968.0</td>\n",
       "      <td>A Kiss for Little Bear</td>\n",
       "      <td>...</td>\n",
       "      <td>11063</td>\n",
       "      <td>11604</td>\n",
       "      <td>126</td>\n",
       "      <td>87</td>\n",
       "      <td>284</td>\n",
       "      <td>1898</td>\n",
       "      <td>3053</td>\n",
       "      <td>6282</td>\n",
       "      <td>https://s.gr-assets.com/assets/nophoto/book/11...</td>\n",
       "      <td>https://s.gr-assets.com/assets/nophoto/book/50...</td>\n",
       "    </tr>\n",
       "  </tbody>\n",
       "</table>\n",
       "<p>3 rows × 23 columns</p>\n",
       "</div>"
      ],
      "text/plain": [
       "      book_id  goodreads_book_id  best_book_id  work_id  books_count  \\\n",
       "12         13               5470          5470   153313          995   \n",
       "845       846               5472          5472  2966408           51   \n",
       "9795     9796             201145        201145  2563528           25   \n",
       "\n",
       "           isbn        isbn13                                  authors  \\\n",
       "12    451524934  9.780452e+12  George Orwell, Erich Fromm, Celâl Üster   \n",
       "845   151010269  9.780151e+12      George Orwell, Christopher Hitchens   \n",
       "9795   64440508  9.780064e+12   Else Holmelund Minarik, Maurice Sendak   \n",
       "\n",
       "      original_publication_year          original_title  ... ratings_count  \\\n",
       "12                       1949.0    Nineteen Eighty-Four  ...       1956832   \n",
       "845                      1950.0      Animal Farm & 1984  ...        116197   \n",
       "9795                     1968.0  A Kiss for Little Bear  ...         11063   \n",
       "\n",
       "     work_ratings_count  work_text_reviews_count  ratings_1  ratings_2  \\\n",
       "12              2053394                    45518      41845      86425   \n",
       "845              118761                     1293       1212       3276   \n",
       "9795              11604                      126         87        284   \n",
       "\n",
       "      ratings_3  ratings_4  ratings_5  \\\n",
       "12       324874     692021     908229   \n",
       "845       16511      40583      57179   \n",
       "9795       1898       3053       6282   \n",
       "\n",
       "                                              image_url  \\\n",
       "12    https://images.gr-assets.com/books/1348990566m...   \n",
       "845   https://images.gr-assets.com/books/1327959366m...   \n",
       "9795  https://s.gr-assets.com/assets/nophoto/book/11...   \n",
       "\n",
       "                                        small_image_url  \n",
       "12    https://images.gr-assets.com/books/1348990566s...  \n",
       "845   https://images.gr-assets.com/books/1327959366s...  \n",
       "9795  https://s.gr-assets.com/assets/nophoto/book/50...  \n",
       "\n",
       "[3 rows x 23 columns]"
      ]
     },
     "execution_count": 28,
     "metadata": {},
     "output_type": "execute_result"
    }
   ],
   "source": [
    "books[books['title'].apply(lambda x: x.lower().find('1984')) >= 0]"
   ]
  },
  {
   "cell_type": "code",
   "execution_count": 32,
   "id": "3d4b0fc1",
   "metadata": {},
   "outputs": [
    {
     "data": {
      "text/plain": [
       "array([ 846,   14, 6128, 1949, 6607, 4359,  809, 8558,   93, 4330],\n",
       "      dtype=int32)"
      ]
     },
     "execution_count": 32,
     "metadata": {},
     "output_type": "execute_result"
    }
   ],
   "source": [
    "nbm = nearest_books_nms(846, nms_index)[0]\n",
    "nbm"
   ]
  },
  {
   "cell_type": "code",
   "execution_count": 33,
   "id": "29fab867",
   "metadata": {},
   "outputs": [
    {
     "data": {
      "text/html": [
       "<div>\n",
       "<style scoped>\n",
       "    .dataframe tbody tr th:only-of-type {\n",
       "        vertical-align: middle;\n",
       "    }\n",
       "\n",
       "    .dataframe tbody tr th {\n",
       "        vertical-align: top;\n",
       "    }\n",
       "\n",
       "    .dataframe thead th {\n",
       "        text-align: right;\n",
       "    }\n",
       "</style>\n",
       "<table border=\"1\" class=\"dataframe\">\n",
       "  <thead>\n",
       "    <tr style=\"text-align: right;\">\n",
       "      <th></th>\n",
       "      <th>authors</th>\n",
       "      <th>title</th>\n",
       "    </tr>\n",
       "  </thead>\n",
       "  <tbody>\n",
       "    <tr>\n",
       "      <th>13</th>\n",
       "      <td>George Orwell</td>\n",
       "      <td>Animal Farm</td>\n",
       "    </tr>\n",
       "    <tr>\n",
       "      <th>92</th>\n",
       "      <td>Frances Hodgson Burnett</td>\n",
       "      <td>The Secret Garden</td>\n",
       "    </tr>\n",
       "    <tr>\n",
       "      <th>808</th>\n",
       "      <td>Aldous Huxley, Christopher Hitchens</td>\n",
       "      <td>Brave New World / Brave New World Revisited</td>\n",
       "    </tr>\n",
       "    <tr>\n",
       "      <th>845</th>\n",
       "      <td>George Orwell, Christopher Hitchens</td>\n",
       "      <td>Animal Farm / 1984</td>\n",
       "    </tr>\n",
       "    <tr>\n",
       "      <th>1948</th>\n",
       "      <td>E.M. Forster</td>\n",
       "      <td>Howards End</td>\n",
       "    </tr>\n",
       "    <tr>\n",
       "      <th>4329</th>\n",
       "      <td>Plato, G.M.A. Grube, John M. Cooper</td>\n",
       "      <td>The Trial and Death of Socrates</td>\n",
       "    </tr>\n",
       "    <tr>\n",
       "      <th>4358</th>\n",
       "      <td>D.H. Lawrence</td>\n",
       "      <td>Women in Love (Brangwen Family, #2)</td>\n",
       "    </tr>\n",
       "    <tr>\n",
       "      <th>6127</th>\n",
       "      <td>E.M. Forster</td>\n",
       "      <td>Maurice</td>\n",
       "    </tr>\n",
       "    <tr>\n",
       "      <th>6606</th>\n",
       "      <td>D.H. Lawrence, Daphne Merkin</td>\n",
       "      <td>The Rainbow</td>\n",
       "    </tr>\n",
       "    <tr>\n",
       "      <th>8557</th>\n",
       "      <td>Charles Bernard Nordhoff, James Norman Hall</td>\n",
       "      <td>Mutiny on the Bounty (The Bounty Trilogy, #1)</td>\n",
       "    </tr>\n",
       "  </tbody>\n",
       "</table>\n",
       "</div>"
      ],
      "text/plain": [
       "                                          authors  \\\n",
       "13                                  George Orwell   \n",
       "92                        Frances Hodgson Burnett   \n",
       "808           Aldous Huxley, Christopher Hitchens   \n",
       "845           George Orwell, Christopher Hitchens   \n",
       "1948                                 E.M. Forster   \n",
       "4329          Plato, G.M.A. Grube, John M. Cooper   \n",
       "4358                                D.H. Lawrence   \n",
       "6127                                 E.M. Forster   \n",
       "6606                 D.H. Lawrence, Daphne Merkin   \n",
       "8557  Charles Bernard Nordhoff, James Norman Hall   \n",
       "\n",
       "                                              title  \n",
       "13                                      Animal Farm  \n",
       "92                                The Secret Garden  \n",
       "808     Brave New World / Brave New World Revisited  \n",
       "845                              Animal Farm / 1984  \n",
       "1948                                    Howards End  \n",
       "4329                The Trial and Death of Socrates  \n",
       "4358            Women in Love (Brangwen Family, #2)  \n",
       "6127                                        Maurice  \n",
       "6606                                    The Rainbow  \n",
       "8557  Mutiny on the Bounty (The Bounty Trilogy, #1)  "
      ]
     },
     "execution_count": 33,
     "metadata": {},
     "output_type": "execute_result"
    }
   ],
   "source": [
    "books[books.book_id.isin(nbm)][['authors', 'title']]"
   ]
  },
  {
   "cell_type": "code",
   "execution_count": null,
   "id": "0cb37936",
   "metadata": {},
   "outputs": [],
   "source": [
    "with open('data/item_embeddings.pkl', 'wb') as file:\n",
    "    pickle.dump(item_embeddings, file, protocol=pickle.HIGHEST_PROTOCOL)"
   ]
  }
 ],
 "metadata": {
  "kernelspec": {
   "display_name": "my_env",
   "language": "python",
   "name": "python3"
  },
  "language_info": {
   "codemirror_mode": {
    "name": "ipython",
    "version": 3
   },
   "file_extension": ".py",
   "mimetype": "text/x-python",
   "name": "python",
   "nbconvert_exporter": "python",
   "pygments_lexer": "ipython3",
   "version": "3.10.17"
  }
 },
 "nbformat": 4,
 "nbformat_minor": 5
}
